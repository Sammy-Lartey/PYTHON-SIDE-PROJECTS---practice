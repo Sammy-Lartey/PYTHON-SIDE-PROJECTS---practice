{
 "cells": [
  {
   "cell_type": "code",
   "execution_count": 1,
   "id": "f95c2c12",
   "metadata": {},
   "outputs": [],
   "source": [
    "#CARD AND DECK CLASSES\n",
    "\n",
    "import random\n",
    "\n",
    "suits=('Hearts','Diamonds','Spades','Clubs')\n",
    "ranks=('Two','Three','Four','Five','Six','Seven','Eight','Nine','Ten','Jack','Queen','King','Ace')\n",
    "values={'Two':2, 'Three':3, 'Four':4, 'Five':5, 'Six':6, 'Seven':7, 'Eight':8,\n",
    "         'Nine':9, 'Ten':10, 'Jack':10, 'Queen':10, 'King':10, 'Ace':11}\n",
    "\n",
    "playing= True"
   ]
  },
  {
   "cell_type": "code",
   "execution_count": 2,
   "id": "04d21851",
   "metadata": {},
   "outputs": [],
   "source": [
    "class Card():\n",
    "    \n",
    "    def __init__(self,suit,rank):\n",
    "        self.suit=suit\n",
    "        self.rank=rank\n",
    "        \n",
    "    def __str__(self):\n",
    "        return self.rank + \" of \" +self.suit\n",
    "    "
   ]
  },
  {
   "cell_type": "code",
   "execution_count": 3,
   "id": "50409839",
   "metadata": {},
   "outputs": [],
   "source": [
    "class Deck:\n",
    "    \n",
    "    def __init__(self):\n",
    "        self.deck = []\n",
    "        for suit in suits:\n",
    "            for rank in ranks:\n",
    "                self.deck.append(Card(suit,rank))\n",
    "                \n",
    "    def __str__(self):\n",
    "        deck_comp = ''\n",
    "        for card in self.deck:\n",
    "            deck_comp += '\\n'+ card.__str__()\n",
    "        return \"The deck has: \"+deck_comp\n",
    "            \n",
    "    def shuffle(self):\n",
    "        random.shuffle(self.deck)\n",
    "        \n",
    "    def deal(self):\n",
    "        single_card= self.deck.pop()\n",
    "        return single_card"
   ]
  },
  {
   "cell_type": "code",
   "execution_count": 4,
   "id": "cf801f51",
   "metadata": {},
   "outputs": [
    {
     "name": "stdout",
     "output_type": "stream",
     "text": [
      "The deck has: \n",
      "Jack of Diamonds\n",
      "Five of Clubs\n",
      "Ten of Spades\n",
      "King of Spades\n",
      "Ace of Hearts\n",
      "Three of Clubs\n",
      "Seven of Clubs\n",
      "Five of Diamonds\n",
      "Four of Hearts\n",
      "King of Clubs\n",
      "Ten of Hearts\n",
      "Jack of Clubs\n",
      "Six of Hearts\n",
      "Nine of Hearts\n",
      "Two of Spades\n",
      "Eight of Diamonds\n",
      "Jack of Spades\n",
      "Jack of Hearts\n",
      "Three of Hearts\n",
      "Ace of Clubs\n",
      "Two of Hearts\n",
      "Six of Clubs\n",
      "Two of Diamonds\n",
      "Seven of Diamonds\n",
      "King of Hearts\n",
      "Eight of Spades\n",
      "Seven of Hearts\n",
      "Queen of Spades\n",
      "Six of Diamonds\n",
      "Three of Diamonds\n",
      "Nine of Spades\n",
      "Eight of Hearts\n",
      "Five of Spades\n",
      "Four of Clubs\n",
      "Queen of Diamonds\n",
      "Two of Clubs\n",
      "Six of Spades\n",
      "Three of Spades\n",
      "Five of Hearts\n",
      "Ten of Diamonds\n",
      "Ace of Spades\n",
      "Queen of Clubs\n",
      "Four of Diamonds\n",
      "Queen of Hearts\n",
      "Nine of Diamonds\n",
      "Nine of Clubs\n",
      "Seven of Spades\n",
      "Eight of Clubs\n",
      "King of Diamonds\n",
      "Ace of Diamonds\n",
      "Four of Spades\n",
      "Ten of Clubs\n"
     ]
    }
   ],
   "source": [
    "test_deck= Deck()\n",
    "test_deck.shuffle()\n",
    "print(test_deck)"
   ]
  },
  {
   "cell_type": "code",
   "execution_count": 5,
   "id": "9d32808e",
   "metadata": {},
   "outputs": [],
   "source": [
    "#HAND AND CHIP CLASSES"
   ]
  },
  {
   "cell_type": "code",
   "execution_count": 6,
   "id": "1298bd2e",
   "metadata": {},
   "outputs": [],
   "source": [
    "class Hand:\n",
    "    \n",
    "    def __init__(self):\n",
    "        self.cards = []\n",
    "        self.value = 0\n",
    "        self.aces = 0\n",
    "        \n",
    "    def add_card(self, card):\n",
    "        #card passed in \n",
    "        #from Deck.deal()---> single Card(suit,rank)\n",
    "        self.cards.append(card)\n",
    "        self.value += values[card.rank]\n",
    "        \n",
    "        #track aces\n",
    "        if card.rank == 'Ace':\n",
    "            self.aces += 1\n",
    "        \n",
    "    def adjust_for_ace(self):\n",
    "        \n",
    "        #if total value > 21 and i still have an ace, then change...\n",
    "        #...my ace to be a 1 instead of an 11\n",
    "        while self.value > 21 and self.aces > 0:\n",
    "            self.value -= 10\n",
    "            self.aces -= 1\n",
    "        "
   ]
  },
  {
   "cell_type": "code",
   "execution_count": 7,
   "id": "a204a1c5",
   "metadata": {},
   "outputs": [
    {
     "name": "stdout",
     "output_type": "stream",
     "text": [
      "King of Spades\n",
      "10\n"
     ]
    }
   ],
   "source": [
    "test_deck=Deck()\n",
    "test_deck.shuffle()\n",
    "\n",
    "#PLAYER\n",
    "test_player = Hand()\n",
    "#deal 1 card from the deck Card(suit,rank)\n",
    "pulled_card = test_deck.deal()\n",
    "print(pulled_card)\n",
    "test_player.add_card(pulled_card)\n",
    "print(test_player.value)"
   ]
  },
  {
   "cell_type": "code",
   "execution_count": 8,
   "id": "bd1ff90b",
   "metadata": {},
   "outputs": [],
   "source": [
    "test_player.add_card(test_deck.deal())"
   ]
  },
  {
   "cell_type": "code",
   "execution_count": 9,
   "id": "30ec7c67",
   "metadata": {},
   "outputs": [
    {
     "data": {
      "text/plain": [
       "21"
      ]
     },
     "execution_count": 9,
     "metadata": {},
     "output_type": "execute_result"
    }
   ],
   "source": [
    "test_player.value"
   ]
  },
  {
   "cell_type": "code",
   "execution_count": 10,
   "id": "abe86d69",
   "metadata": {},
   "outputs": [],
   "source": [
    "class Chips:\n",
    "    def __init__(self, total = 100):\n",
    "        self.total=total\n",
    "        self.bet=0\n",
    "        \n",
    "    def win_bet(self):\n",
    "        self.total+=self.bet\n",
    "        \n",
    "    def lose_bet(self):\n",
    "        self.total-=self.bet"
   ]
  },
  {
   "cell_type": "code",
   "execution_count": 11,
   "id": "282f1877",
   "metadata": {},
   "outputs": [],
   "source": [
    "#FUNCTIONS FOR GAMEPLAY"
   ]
  },
  {
   "cell_type": "code",
   "execution_count": 12,
   "id": "a2fb7937",
   "metadata": {},
   "outputs": [],
   "source": [
    "def take_bet(chips):\n",
    "    \n",
    "    while True:\n",
    "        \n",
    "        try:\n",
    "            chips.bet = int(input(\"How many chips would you like to bet?: \"))\n",
    "        except:\n",
    "            print(\"Sorry please provide an integer\")\n",
    "        else:\n",
    "            if chips.bet > chips.total:\n",
    "                print(\"Sorry, you do not have enough chips! You have: {}\".format(chips.total))\n",
    "            else:\n",
    "                break\n",
    "        "
   ]
  },
  {
   "cell_type": "code",
   "execution_count": 13,
   "id": "8f1850a2",
   "metadata": {},
   "outputs": [],
   "source": [
    "def hit(deck,hand):\n",
    "    \n",
    "    single_card= deck.deal()\n",
    "    hand.add_card(single_card)\n",
    "    hand.adjust_for_ace()"
   ]
  },
  {
   "cell_type": "code",
   "execution_count": 14,
   "id": "7acca820",
   "metadata": {},
   "outputs": [],
   "source": [
    "def hit_or_stand(deck,hand):\n",
    "    global playing\n",
    "    \n",
    "    while True:\n",
    "        x = input(\"Hit or Stand? Enter h or s\")\n",
    "        \n",
    "        if x[0].lower()== 'h':\n",
    "            hit(deck,hand)\n",
    "            \n",
    "        elif x[0].lower()== 's':\n",
    "            print(\"Player stands. Dealer's turn\")\n",
    "            playing = False\n",
    "        \n",
    "        else:\n",
    "            print(\"Sorry, i did not understand that, please enter h or s only :)\")\n",
    "            continue\n",
    "            \n",
    "        break"
   ]
  },
  {
   "cell_type": "code",
   "execution_count": 15,
   "id": "e6411410",
   "metadata": {},
   "outputs": [],
   "source": [
    "def show_some(player,dealer):\n",
    "    \n",
    "    #show only one of the dealer's cards\n",
    "    print(\"\\n Dealer's Hand: \")\n",
    "    print(\"First card hidden!\")\n",
    "    print(dealer.cards[1])\n",
    "    \n",
    "    #show all 2 cards of the player's hand\n",
    "    print(\"\\n Player's hand: \")\n",
    "    for card in player.cards:\n",
    "        print(card)\n",
    "    \n",
    "    \n",
    "def show_all(player,dealer):\n",
    "    #show all the dealer's cards\n",
    "    print(\"\\n Dealer's hand: \")\n",
    "    for card in dealer.cards:\n",
    "        print(card)\n",
    "        \n",
    "    #calculate and display value (J+K == 20)\n",
    "    print(f\"Value of dealer's Hand is: {dealer.value}\")\n",
    "    \n",
    "    #show all the player's cards\n",
    "    print(\"\\n Player's hand: \")\n",
    "    for card in player.cards:\n",
    "        print(card)\n",
    "    print(f\"Player's Hand is: {player.value}\")"
   ]
  },
  {
   "cell_type": "code",
   "execution_count": 19,
   "id": "381f76df",
   "metadata": {},
   "outputs": [],
   "source": [
    "def player_busts(player,dealer,chips):\n",
    "    print(\"PLAYER BUSTED\")\n",
    "    chips.lose_bet()\n",
    "\n",
    "def player_wins(player,dealer,chips):\n",
    "    print(\"PLAYER WINS!\")\n",
    "    chips.win_bet()\n",
    "\n",
    "def dealer_busts(player,dealer,chips):\n",
    "    print(\"DEALER BUSTED! PLAYER WINS!\")\n",
    "    chips.win_bet()\n",
    "\n",
    "def dealer_wins(player,dealer,chips):\n",
    "    print(\"DEALER WINS!\")\n",
    "    chips.lose_bet()\n",
    "\n",
    "def push(player,dealer):\n",
    "    print(\"Dealer and Player tie! PUSH!\")\n"
   ]
  },
  {
   "cell_type": "code",
   "execution_count": 17,
   "id": "3e6c3872",
   "metadata": {},
   "outputs": [],
   "source": [
    "#FINAL GAMEPLAY SCRIPT"
   ]
  },
  {
   "cell_type": "code",
   "execution_count": null,
   "id": "328933e4",
   "metadata": {},
   "outputs": [
    {
     "name": "stdout",
     "output_type": "stream",
     "text": [
      "WELCOME TO BLACKJACK\n",
      "How many chips would you like to bet?: 100\n",
      "\n",
      " Dealer's Hand: \n",
      "First card hidden!\n",
      "Jack of Hearts\n",
      "\n",
      " Player's hand: \n",
      "Seven of Diamonds\n",
      "Ace of Hearts\n",
      "\n",
      " Dealer's hand: \n",
      "King of Diamonds\n",
      "Jack of Hearts\n",
      "Value of dealer's Hand is: 20\n",
      "\n",
      " Player's hand: \n",
      "Seven of Diamonds\n",
      "Ace of Hearts\n",
      "Player's Hand is: 18\n",
      "DEALER WINS!\n",
      "\n",
      " Player total chips are at: 0\n"
     ]
    }
   ],
   "source": [
    "while True:\n",
    "    \n",
    "    print(\"WELCOME TO BLACKJACK\")\n",
    "    \n",
    "    #create and shuffle the deck, deal two cards to each player\n",
    "    deck= Deck()\n",
    "    deck.shuffle()\n",
    "    \n",
    "    #Create a hand object to represent the Player\n",
    "    #add two cards to the player's hand\n",
    "    player_hand = Hand()\n",
    "    player_hand.add_card(deck.deal())\n",
    "    player_hand.add_card(deck.deal())\n",
    "    \n",
    "    #Create a hand object representing the Dealer\n",
    "    #add two cards to the dealer's hand\n",
    "    dealer_hand = Hand()\n",
    "    dealer_hand.add_card(deck.deal())\n",
    "    dealer_hand.add_card(deck.deal())\n",
    "    \n",
    "    \n",
    "    #Set up player chips\n",
    "    player_chips = Chips()\n",
    "    \n",
    "    #prompt the player for their bet\n",
    "    take_bet(player_chips)\n",
    "    \n",
    "    #show cards(but keep one dealer card hidden)\n",
    "    show_some(player_hand,dealer_hand)\n",
    "    \n",
    "    while playing: #recalled from the hit_or_stand function\n",
    "        \n",
    "        #prompt for player to Hit or Stand\n",
    "        hit_or_stand(deck,player_hand)\n",
    "        \n",
    "        #show cards(but keep one dealer card hidden)\n",
    "        show_some(player_hand,dealer_hand)\n",
    "        \n",
    "        #if player hand exceeds 21, run player_busts() and break out of the loop\n",
    "        if player_hand.value > 21:\n",
    "            player_busts(player_hand,dealer_hand,player_chips)\n",
    "            \n",
    "            break\n",
    "            \n",
    "    #if player hasn't busted, play Dealer's hand until Dealer reaches 17/ SOFT 17 RULE\n",
    "    if player_hand.value <= 21:\n",
    "        \n",
    "        while dealer_hand.value < 17:\n",
    "            hit(deck,dealer_hand)\n",
    "            \n",
    "        #show all dealer cards\n",
    "        show_all(player_hand,dealer_hand)\n",
    "        \n",
    "        \n",
    "        #Run different winning scenarios\n",
    "        if dealer_hand.value > 21:\n",
    "            dealer_busts(player_hand,dealer_hand,player_chips)\n",
    "        elif dealer_hand.value > player_hand.value:\n",
    "            dealer_wins(player_hand,dealer_hand,player_chips)\n",
    "        elif dealer_hand.value < player_hand.value:\n",
    "            player_wins(player_hand,dealer_hand,player_chips)\n",
    "        else:\n",
    "            push(player_hand,dealer_hand)\n",
    "            \n",
    "            \n",
    "    \n",
    "    #Inform Player of their chips total\n",
    "    print('\\n Player total chips are at: {}'.format(player_chips.total))\n",
    "    \n",
    "    #ask to play again\n",
    "    new_game = input(\"would you like to play another hand? y/n\")\n",
    "    \n",
    "    if new_game[0].lower() == 'y':\n",
    "        playing = True\n",
    "        continue\n",
    "    else:\n",
    "        print(\"Thank you for playing!\")\n",
    "        break\n",
    "        \n",
    "            "
   ]
  },
  {
   "cell_type": "code",
   "execution_count": null,
   "id": "f3253376",
   "metadata": {},
   "outputs": [],
   "source": []
  }
 ],
 "metadata": {
  "kernelspec": {
   "display_name": "Python 3 (ipykernel)",
   "language": "python",
   "name": "python3"
  },
  "language_info": {
   "codemirror_mode": {
    "name": "ipython",
    "version": 3
   },
   "file_extension": ".py",
   "mimetype": "text/x-python",
   "name": "python",
   "nbconvert_exporter": "python",
   "pygments_lexer": "ipython3",
   "version": "3.9.12"
  }
 },
 "nbformat": 4,
 "nbformat_minor": 5
}
