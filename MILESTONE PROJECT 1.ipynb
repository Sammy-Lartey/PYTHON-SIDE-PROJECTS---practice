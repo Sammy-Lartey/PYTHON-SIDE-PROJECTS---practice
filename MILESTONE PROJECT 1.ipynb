{
 "cells": [
  {
   "cell_type": "code",
   "execution_count": 2,
   "id": "05542470",
   "metadata": {},
   "outputs": [],
   "source": [
    "from IPython.display import clear_output\n",
    "\n",
    "def display_board(board):\n",
    "    clear_output()\n",
    "    print(board[7]+'|'+board[8]+'|'+board[9])\n",
    "    print('-------')\n",
    "    print(board[4]+'|'+board[5]+'|'+board[6])\n",
    "    print('-------')\n",
    "    print(board[1]+'|'+board[2]+'|'+board[3])"
   ]
  },
  {
   "cell_type": "code",
   "execution_count": 3,
   "id": "f805065b",
   "metadata": {},
   "outputs": [
    {
     "name": "stdout",
     "output_type": "stream",
     "text": [
      "X|O|X\n",
      "-------\n",
      "0|X|0\n",
      "-------\n",
      "X|O|X\n"
     ]
    }
   ],
   "source": [
    "test_board= ['#','X','O','X','0','X','0','X','O','X']\n",
    "display_board(test_board)"
   ]
  },
  {
   "cell_type": "code",
   "execution_count": 4,
   "id": "d4eb3d64",
   "metadata": {},
   "outputs": [],
   "source": [
    "def player_input():\n",
    "    \n",
    "    marker=\"\"\n",
    "    \n",
    "    #keep asking player 1 to choose X or O \n",
    "    \n",
    "    while not (marker == 'X' or marker == 'O'):\n",
    "        marker= input(\"player 1, choose X or O: \").upper()\n",
    "        \n",
    "    \n",
    "    #Assign player 2 the opposite marker\n",
    "    \n",
    "    if marker == 'X':\n",
    "        return ('X','O')\n",
    "    else: \n",
    "        return ('O','X')\n",
    "    "
   ]
  },
  {
   "cell_type": "code",
   "execution_count": 5,
   "id": "28d61945",
   "metadata": {},
   "outputs": [
    {
     "name": "stdout",
     "output_type": "stream",
     "text": [
      "player 1, choose X or O: x\n"
     ]
    }
   ],
   "source": [
    "player1_marker, player2_marker = player_input()"
   ]
  },
  {
   "cell_type": "code",
   "execution_count": 6,
   "id": "3c01c56b",
   "metadata": {},
   "outputs": [
    {
     "data": {
      "text/plain": [
       "'O'"
      ]
     },
     "execution_count": 6,
     "metadata": {},
     "output_type": "execute_result"
    }
   ],
   "source": [
    "player2_marker"
   ]
  },
  {
   "cell_type": "code",
   "execution_count": 7,
   "id": "2934ebbb",
   "metadata": {},
   "outputs": [],
   "source": [
    "def place_marker(board, marker, position ):\n",
    "    \n",
    "    board[position]= marker"
   ]
  },
  {
   "cell_type": "code",
   "execution_count": 8,
   "id": "95a67242",
   "metadata": {},
   "outputs": [
    {
     "name": "stdout",
     "output_type": "stream",
     "text": [
      "X|$|X\n",
      "-------\n",
      "0|X|0\n",
      "-------\n",
      "X|O|X\n"
     ]
    }
   ],
   "source": [
    "place_marker(test_board,'$',8)\n",
    "display_board(test_board)"
   ]
  },
  {
   "cell_type": "code",
   "execution_count": 9,
   "id": "b5029e57",
   "metadata": {},
   "outputs": [],
   "source": [
    "def win_check(board, mark):\n",
    "    #Win TIC TAC TOE?\n",
    "    \n",
    "    return((board[7]==mark and board[8]==mark and board[9]==mark) or #across the top\n",
    "    (board[4]==mark and board[5]==mark and board[6]==mark) or #across the middle\n",
    "    (board[1]==mark and board[2]==mark and board[3]==mark) or #across the bottom\n",
    "    (board[7]==mark and board[4]==mark and board[1]==mark) or #down the middle\n",
    "    (board[8]==mark and board[5]==mark and board[2]==mark) or #down the middle\n",
    "    (board[9]==mark and board[6]==mark and board[3]==mark) or #down the right side\n",
    "    (board[7]==mark and board[5]==mark and board[3]==mark) or #diagonal      \n",
    "    (board[9]==mark and board[5]==mark and board[1]==mark))  #diagonal\n",
    "            \n",
    "  "
   ]
  },
  {
   "cell_type": "code",
   "execution_count": 10,
   "id": "7624b151",
   "metadata": {},
   "outputs": [
    {
     "name": "stdout",
     "output_type": "stream",
     "text": [
      "X|$|X\n",
      "-------\n",
      "0|X|0\n",
      "-------\n",
      "X|O|X\n"
     ]
    },
    {
     "data": {
      "text/plain": [
       "True"
      ]
     },
     "execution_count": 10,
     "metadata": {},
     "output_type": "execute_result"
    }
   ],
   "source": [
    "display_board(test_board)\n",
    "win_check(test_board, 'X')"
   ]
  },
  {
   "cell_type": "code",
   "execution_count": 11,
   "id": "c94c966c",
   "metadata": {},
   "outputs": [],
   "source": [
    "import random\n",
    "\n",
    "def choose_first():\n",
    "    \n",
    "    flip= random.randint(0,1)\n",
    "    \n",
    "    if flip== 0:\n",
    "        return 'Player 1'\n",
    "    else:\n",
    "        return 'Player 2'\n",
    "    "
   ]
  },
  {
   "cell_type": "code",
   "execution_count": 12,
   "id": "fa7058e1",
   "metadata": {},
   "outputs": [
    {
     "data": {
      "text/plain": [
       "'Player 2'"
      ]
     },
     "execution_count": 12,
     "metadata": {},
     "output_type": "execute_result"
    }
   ],
   "source": [
    "choose_first()"
   ]
  },
  {
   "cell_type": "code",
   "execution_count": 13,
   "id": "f241b7c2",
   "metadata": {},
   "outputs": [],
   "source": [
    "def space_check(board, position):\n",
    "    \n",
    "    return board[position]== ' '\n",
    "    "
   ]
  },
  {
   "cell_type": "code",
   "execution_count": 14,
   "id": "b61508eb",
   "metadata": {},
   "outputs": [],
   "source": [
    "def full_board_check(board):\n",
    "    for i in range(1,10):\n",
    "        if space_check(board,i):\n",
    "            return False\n",
    "        \n",
    "    #Board is full if we return True\n",
    "    return True"
   ]
  },
  {
   "cell_type": "code",
   "execution_count": 15,
   "id": "ce41ee2c",
   "metadata": {},
   "outputs": [],
   "source": [
    "def player_choice(board):\n",
    "    \n",
    "    position = 0\n",
    "    \n",
    "    while position not in [1,2,3,4,5,6,7,8,9] or not space_check(board,position):\n",
    "        position= int(input(\"Choose a position (1-9)\"))\n",
    "        \n",
    "    return position"
   ]
  },
  {
   "cell_type": "code",
   "execution_count": 16,
   "id": "ecbd8589",
   "metadata": {},
   "outputs": [],
   "source": [
    "def replay():\n",
    "    \n",
    "    choice= input(\"Play again? Enter Yes or No\")\n",
    "    \n",
    "    return choice=='Yes'"
   ]
  },
  {
   "cell_type": "code",
   "execution_count": 17,
   "id": "b373bada",
   "metadata": {},
   "outputs": [],
   "source": [
    "#The actual logic of the game!..."
   ]
  },
  {
   "cell_type": "code",
   "execution_count": 18,
   "id": "1b458f7a",
   "metadata": {},
   "outputs": [
    {
     "name": "stdout",
     "output_type": "stream",
     "text": [
      "X| | \n",
      "-------\n",
      "X|O|O\n",
      "-------\n",
      "X| |O\n",
      "PLAYER 1 HAS WON!!!!\n",
      "Play again? Enter Yes or NoNo\n"
     ]
    }
   ],
   "source": [
    "#WHILE LOOP TO KEEP RUNNING TE GAME\n",
    "print(\"WELCOME TO TIC TAC TOE!!\")\n",
    "\n",
    "while True:\n",
    "    \n",
    "    \n",
    "    #PLAY THE GAME\n",
    "    \n",
    "    ##SET EVERYTHING UP(BOARD, WHOS FIRST, CHOOSE MARKERS X,O)\n",
    "    the_board = [' ']*10\n",
    "    player1_marker,player2_marker=player_input()\n",
    "    \n",
    "    \n",
    "    turn = choose_first()\n",
    "    print(turn + ' will go first')\n",
    "    \n",
    "    \n",
    "    play_game= input('Ready to play? y or n')\n",
    "    \n",
    "    if play_game== 'y':\n",
    "        game_on = True\n",
    "    else:\n",
    "        game_on = False\n",
    "    \n",
    "    ##GAME PLAY\n",
    "    \n",
    "    while game_on:\n",
    "        \n",
    "        if turn == 'Player 1':\n",
    "            \n",
    "            #show the board\n",
    "            display_board(the_board)\n",
    "            #choose position\n",
    "            position = player_choice(the_board)\n",
    "            #place marker on the position\n",
    "            place_marker(the_board,player1_marker,position)\n",
    "            \n",
    "            \n",
    "            #check if they won\n",
    "            if win_check(the_board,player1_marker):\n",
    "                display_board(the_board)\n",
    "                print(\"PLAYER 1 HAS WON!!!!\")\n",
    "                game_on= False\n",
    "                \n",
    "            else:\n",
    "                if full_board_check(the_board):\n",
    "                    display_board(the_board)\n",
    "                    print(\"TIE GAME!\")\n",
    "                    game_on= False\n",
    "                    \n",
    "                else:\n",
    "                    turn = 'Player 2'\n",
    "            \n",
    "           \n",
    "        else:\n",
    "             #show the board\n",
    "            display_board(the_board)\n",
    "            #choose position\n",
    "            position = player_choice(the_board)\n",
    "            #place marker on the position\n",
    "            place_marker(the_board,player2_marker,position)\n",
    "            \n",
    "            \n",
    "            #check if they won\n",
    "            if win_check(the_board,player2_marker):\n",
    "                display_board(the_board)\n",
    "                print(\"PLAYER 2 HAS WON!!!!\")\n",
    "                game_on= False\n",
    "                \n",
    "            else:\n",
    "                if full_board_check(the_board):\n",
    "                    display_board(the_board)\n",
    "                    print(\"TIE GAME!\")\n",
    "                    game_on= False\n",
    "                    \n",
    "                else:\n",
    "                    turn = 'Player 1'\n",
    "    \n",
    "           ###PLAYER TWO TURN\n",
    "    \n",
    "    \n",
    "    \n",
    "    \n",
    "    \n",
    "    if not replay():\n",
    "        break\n",
    "#BREAK OUT OF THE WHILE LOOP ON replay()"
   ]
  },
  {
   "cell_type": "code",
   "execution_count": null,
   "id": "8e7fa4f6",
   "metadata": {},
   "outputs": [],
   "source": []
  }
 ],
 "metadata": {
  "kernelspec": {
   "display_name": "Python 3 (ipykernel)",
   "language": "python",
   "name": "python3"
  },
  "language_info": {
   "codemirror_mode": {
    "name": "ipython",
    "version": 3
   },
   "file_extension": ".py",
   "mimetype": "text/x-python",
   "name": "python",
   "nbconvert_exporter": "python",
   "pygments_lexer": "ipython3",
   "version": "3.9.12"
  }
 },
 "nbformat": 4,
 "nbformat_minor": 5
}
